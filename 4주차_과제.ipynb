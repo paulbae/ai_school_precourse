{
  "nbformat": 4,
  "nbformat_minor": 0,
  "metadata": {
    "colab": {
      "name": "4주차_과제.ipynb",
      "provenance": [],
      "collapsed_sections": [],
      "include_colab_link": true
    },
    "kernelspec": {
      "name": "python3",
      "display_name": "Python 3"
    }
  },
  "cells": [
    {
      "cell_type": "markdown",
      "metadata": {
        "id": "view-in-github",
        "colab_type": "text"
      },
      "source": [
        "<a href=\"https://colab.research.google.com/github/paulbae/kimchi/blob/master/4%EC%A3%BC%EC%B0%A8_%EA%B3%BC%EC%A0%9C.ipynb\" target=\"_parent\"><img src=\"https://colab.research.google.com/assets/colab-badge.svg\" alt=\"Open In Colab\"/></a>"
      ]
    },
    {
      "cell_type": "markdown",
      "metadata": {
        "id": "wxkL6PjwsI6L",
        "colab_type": "text"
      },
      "source": [
        "# 4주차 과제\n",
        "- 용어 정리\n",
        "- 딥러닝 강의 클론 코딩\n",
        "- 딥러닝 순전파 & 역전파 계산"
      ]
    },
    {
      "cell_type": "markdown",
      "metadata": {
        "id": "ixEtDe6_uGgI",
        "colab_type": "text"
      },
      "source": [
        "## 1. 용어 정리\n",
        "\n",
        "다음 제시된 단어의 정의(설명)를 정리하여 작성 하세요.\n",
        "\n",
        "* 2문장 이상 작성 해 주세요. \n",
        "* 주제(단어)와 크게 벗어나지만 않는다면 정답처리 됩니다.\n",
        "* 강의 뿐 아니라 기타 레퍼런스를 참고하여 작성하셔도 됩니다. (기타 레퍼런스를 참고하신 경우, 해당 레퍼런스를 정리하여 하단에 작성해 주세요.)\n"
      ]
    },
    {
      "cell_type": "markdown",
      "metadata": {
        "id": "0lfwat8eurKZ",
        "colab_type": "text"
      },
      "source": [
        "__(예시)__\n",
        "### 심층 신경망\n",
        ": 입력층과 출력층 사이에 여러 개의 은닉층들로 이뤄진 인공신경망이다. 심층 신경망은 일반적으로 인공신경망과 마찬가지로 복잡한 비선형 관계들을 모델링 할 수 있다. 신층신경망의 목적은 분류 및 수치예측을 하기 위함이고 이미지 트레이닝이나 문자인식과 같은 분야에서 매우 유용하게 쓰이고 있다."
      ]
    },
    {
      "cell_type": "markdown",
      "metadata": {
        "id": "Y8YJNKG_v65A",
        "colab_type": "text"
      },
      "source": [
        "### MCP 뉴런\n",
        ": 1943년 워런 맥콜록과 웧터 피츠가 발표한 간소화된 뇌의 뉴런개념.\n",
        "맥컬록-피츠 뉴런(McCulloch-Pitts Neuron), AI를 설계하기 위해, 생물학적 뇌가 동작하는 방식을 이해하려는 시도로 신경세포를 이진출력을 내는 간단한 논리회로로 표현.\n",
        "\n",
        "### 퍼셉트론\n",
        ": 1957년 프랭크 로젠블렛이 MCP뉴런모델을 기반으로 자동으로 최적의 가중치를 학습하는 알고리즘. 이 가중치는 뉴런의 출력신호를 낼지 말지(역치)를 결정하기 위해 입력값에 곱하는 계수가 된다.\n",
        "\n",
        "### 역전파\n",
        ": 뉴런의 가중치를 효율적으로 조정하기위해, 거꾸로 무언가를 전파하는 방식.\n",
        "출력값과 지도데이터 사이에 생기는 오차를 이용해서 출력층에서 입력층쪽으로 가중치를 조정하는 것.\n",
        "\n",
        "### 강화학습\n",
        ": 머신러닝의 한 영역이다.\n",
        "에이전트가 환경과 상호작용하며 환경에는 보상이라는 기준이있어 다양한 시행착오를 겪어가며 보상을 최대화하는 학습 방법.\n",
        "\n",
        "### 과적합\n",
        ": 머신러닝에서 학습데이터를 과하게 학습하여 발생하는 현상.\n",
        "목적함의 차수를 늘렸을때 학습과정에서는 성과가 좋으나 이후 실전데이터를 적용했을때 성과가 좋지않은 현상\n",
        "\n",
        "### 차원의 저주\n",
        ": 고정된 크기의 훈련 데이터셋 차원이 늘어남에 따라 특성공간이 점점 희소해 지는 현상. \n",
        "\"일상 경험 의 3 차원 물리적 공간 과 같이 낮은 차원의 설정에서 발생하지 않는 고차원 공간 에서 데이터를 분석하고 구성 할 때 발생하는 다양한 현상으로 차원이 증가 할 때 공간 의 양 이 너무 빨리 증가하여 사용 가능한 데이터가 희박 해지는 것입니다.\" - 참고문헌: 위키피디아(https://en.wikipedia.org/wiki/Curse_of_dimensionality)\n"
      ]
    },
    {
      "cell_type": "markdown",
      "metadata": {
        "id": "d-zfFXLCy6jD",
        "colab_type": "text"
      },
      "source": [
        "## 2. 딥러닝 강의 클론 코딩\n",
        "\n",
        "####__퍼셉트론 구조 구현하기__ \n",
        "딥러닝 강의(__딥러닝 원리[1] 3:15 ~ 5:15 부분__)를 보고 코드를 따라 치며 출력 결과를 만드세요.\n",
        " \n",
        "\n",
        "* 하나의 코드셀에 해당 코드를 한번에 다 적어서 실행해주세요 (__그렇게 하지 않을 경우, 아래 이미지와 같은 출력값이 나오지 않을 수 있습니다__)\n",
        "\n",
        "*__주의!__ 실제로 코딩해서 출력해보면 강의에 나온 출력 결과와 다르게 나옵니다!!\n"
      ]
    },
    {
      "cell_type": "code",
      "metadata": {
        "id": "juYjCx1taWc0",
        "colab_type": "code",
        "outputId": "ad20f8a8-0913-4f1a-d475-d5559c737128",
        "colab": {
          "base_uri": "https://localhost:8080/",
          "height": 210
        }
      },
      "source": [
        "import tensorflow as tf\n",
        "tf.compat.v1.set_random_seed(2020)\n",
        "x = 1\n",
        "y = 0\n",
        "w = tf.random.normal([1],0,1)\n",
        "\n",
        "import math\n",
        "def sigmoid(x):\n",
        "  return 1/(1 + math.exp(-x))\n",
        "\n",
        "output = sigmoid( x*w)\n",
        "print(output)\n",
        "\n",
        "for i in range(1000):\n",
        "  output = sigmoid(w*x)\n",
        "  error = y - output\n",
        "  w = w + x*0.1*error\n",
        "\n",
        "  if i % 100 == 99:\n",
        "    print(\"학습 횟수:\", i, \"Error\", error, \"예측 결과:\", output)"
      ],
      "execution_count": 0,
      "outputs": [
        {
          "output_type": "stream",
          "text": [
            "0.47477188589261\n",
            "학습 횟수: 99 Error -0.10010598284299604 예측 결과: 0.10010598284299604\n",
            "학습 횟수: 199 Error -0.05178399422833116 예측 결과: 0.05178399422833116\n",
            "학습 횟수: 299 Error -0.034590451977903586 예측 결과: 0.034590451977903586\n",
            "학습 횟수: 399 Error -0.02588962752851373 예측 결과: 0.02588962752851373\n",
            "학습 횟수: 499 Error -0.020658699939863617 예측 결과: 0.020658699939863617\n",
            "학습 횟수: 599 Error -0.017174253993457355 예측 결과: 0.017174253993457355\n",
            "학습 횟수: 699 Error -0.014689506449480992 예측 결과: 0.014689506449480992\n",
            "학습 횟수: 799 Error -0.012829497265431342 예측 결과: 0.012829497265431342\n",
            "학습 횟수: 899 Error -0.011385568271837804 예측 결과: 0.011385568271837804\n",
            "학습 횟수: 999 Error -0.010232493309882492 예측 결과: 0.010232493309882492\n"
          ],
          "name": "stdout"
        }
      ]
    },
    {
      "cell_type": "markdown",
      "metadata": {
        "id": "wcc5mzI9oZ7r",
        "colab_type": "text"
      },
      "source": [
        "![대체 텍스트](https://www.notion.so/image/https%3A%2F%2Fs3-us-west-2.amazonaws.com%2Fsecure.notion-static.com%2F0cceeed0-0235-4b0f-af88-0b8c377d5b4b%2F_2020-06-09__9.35.23.png?table=block&id=88fd8912-9356-49a4-9fda-a1a63fe96ea9&width=2870&cache=v2)"
      ]
    },
    {
      "cell_type": "markdown",
      "metadata": {
        "id": "kr0HVRk8fOom",
        "colab_type": "text"
      },
      "source": [
        "## 3. 딥러닝 순전파 & 역전파 계산\n",
        "\n",
        "딥러닝 강의(__딥러닝 원리[2] 0:55 ~ 4:32 부분__)에 나오는 순전파 & 역전파 계산에 대한 문제 입니다.\n",
        "\n",
        "해당 영상과 다음 이미지를 참고하여 다음 2가지 물음에 답하세요.\n",
        "\n",
        "\n",
        "(1) 학습률이 0.2 일 경우 출력층의 노드값\n",
        "\n",
        "(2) 학습률이 0.1과 0.2 중 기대출력값이 지도데이터 \"3\"과 더 가까운 학습률은?"
      ]
    },
    {
      "cell_type": "markdown",
      "metadata": {
        "id": "CpwPFWhOUzww",
        "colab_type": "text"
      },
      "source": [
        "![대체 텍스트](https://www.notion.so/image/https%3A%2F%2Fs3-us-west-2.amazonaws.com%2Fsecure.notion-static.com%2Ff54dfd45-92ec-44ae-9616-6949d2484a45%2F_2020-06-10__5.22.03.png?table=block&id=ee05da89-3ceb-4ad9-a2d3-c9f68d24d1d9&width=3580&cache=v2)"
      ]
    },
    {
      "cell_type": "markdown",
      "metadata": {
        "id": "B2OVY7w5U3CI",
        "colab_type": "text"
      },
      "source": [
        "## (1) 학습률이 0.2 일 경우 출력층의 노드값 : \n",
        "## (2) 학습률이 0.1과 0.2 중 기대출력값이 지도데이터 \"3\"과 더 가까운 학습률은? : "
      ]
    },
    {
      "cell_type": "code",
      "metadata": {
        "id": "G48Rq9Y5fX_e",
        "colab_type": "code",
        "colab": {}
      },
      "source": [
        "(1) 1.6     (2)  학습률이 0.1인 경우"
      ],
      "execution_count": 0,
      "outputs": []
    }
  ]
}