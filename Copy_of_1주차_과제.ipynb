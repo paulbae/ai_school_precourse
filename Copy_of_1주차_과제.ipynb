{
  "nbformat": 4,
  "nbformat_minor": 0,
  "metadata": {
    "colab": {
      "name": "Copy of 1주차 과제",
      "provenance": [],
      "collapsed_sections": [],
      "authorship_tag": "ABX9TyN/JZqKK4D43sLWeI5sSQEp",
      "include_colab_link": true
    },
    "kernelspec": {
      "name": "python3",
      "display_name": "Python 3"
    }
  },
  "cells": [
    {
      "cell_type": "markdown",
      "metadata": {
        "id": "view-in-github",
        "colab_type": "text"
      },
      "source": [
        "<a href=\"https://colab.research.google.com/github/paulbae/kimchi/blob/master/Copy_of_1%EC%A3%BC%EC%B0%A8_%EA%B3%BC%EC%A0%9C.ipynb\" target=\"_parent\"><img src=\"https://colab.research.google.com/assets/colab-badge.svg\" alt=\"Open In Colab\"/></a>"
      ]
    },
    {
      "cell_type": "markdown",
      "metadata": {
        "id": "vBr3DvzDErdh",
        "colab_type": "text"
      },
      "source": [
        "### 언어, 음성, 이미지, 자율주행분야에서의 인공지능을 활용한 예는 아래와 같습니다.\n",
        "\n",
        "1. 언어\n",
        "> **구글 번역** \n",
        "\n",
        "2. 음성\n",
        "> **Tmap, 카카오맵, 구글맵**: 네비게이션\n",
        "> **알렉사(아마존), 시리(애플), 지니(SKT) 등**: 개인비서\n",
        "\n",
        "3. 이미지\n",
        "> **홍채(인식핸드폰 잠금장치)** \n",
        "> **이미지 검색**\n",
        "\n",
        "4. 자율주행\n",
        "> 아직 상용화는 되지않았지만 **구글, 테슬라** 및 기존의 자동차 회사들에서 상용화를 위해 활발히 연구중에 있습니다.\n",
        "\n",
        "-------------------------------------------------------------------------------\n",
        "\n",
        "### 흥미를 끄는 인공지능 활용 기술들\n",
        "\n",
        "강의 동영상에서 언급했듯이 인공지능은 우리가 생활하는 모든 분야에 있어 많은 부분을 대체 할 것이라 생각합니다. 2020년 6월 10일자 한국경제신문에 난 기사만 봐도 Fintech 기술을 활용한 인터넷기반의 은행들이 전통적으로 우리나라 금융을 이끌어온 4대 시중은행의 많은 부분을 잠식하고 있다는 내용만 봐도 이러한 상황은 현재진행형이라 생각합니다.\n",
        "\n",
        "저는 이 과정에 참여함으로써 배우게 될 인공지능에 대해 정확히 어떠한 분야로 진출할지에 대해서 아직 결정하진 않았지만, 광주인공지능 사관학교에서 중점적으로 다룰 4개분야 중 ***이미지 부분***에 관심이 있는 편입니다. \n",
        "현재 몇몇 ***위성기술회사*** 들이 곡물과 에너지 분야에서 인공위성으로 실시간으로 추적 촬영되는 작물과 원유저장 설비의 사진을 인공지능을 활용하여 곡물의 성장현황 및 원유탱크 높낮이 등을 파악 당해 작황예측 및 원유 보관량등을 유추하여 선물 및 현물 거래를 하는 중개회사 및 금융회사 등에 해당 정보를 판매하고있는 것으로 알고 있습니다. \n",
        "이러한 부분은 ***스마트팜 분야***의 경우 사람이 일일이 작물의 영금정도를 파악하는 수고를 덜어주고 인공지능 스스로 농작물의 최적의 생장시기 파악하고 자동화 설비에 의해 수확을 명령하는 기술등에 이미 다양한 분야에서 이미지관련 인공지능이 활용되는 것으로 알고 있습니다. 위에 열거한 현재 적용되는 분야 말고도 패션, 시각디자인, 문화 등 더욱 다양한 분야에서 활용 할 수 있는 무한한 가능성이 있다고 생각합니다.\n",
        "\n",
        "-------------------------------------------------------------------------------"
      ]
    },
    {
      "cell_type": "code",
      "metadata": {
        "id": "17jU3Ra2-jC2",
        "colab_type": "code",
        "colab": {}
      },
      "source": [
        ""
      ],
      "execution_count": 0,
      "outputs": []
    },
    {
      "cell_type": "code",
      "metadata": {
        "id": "cYqK5F_S-qQw",
        "colab_type": "code",
        "colab": {}
      },
      "source": [
        ""
      ],
      "execution_count": 0,
      "outputs": []
    },
    {
      "cell_type": "code",
      "metadata": {
        "id": "Urs8hXYt-u65",
        "colab_type": "code",
        "colab": {}
      },
      "source": [
        ""
      ],
      "execution_count": 0,
      "outputs": []
    },
    {
      "cell_type": "code",
      "metadata": {
        "id": "EBKbFUMi_QwZ",
        "colab_type": "code",
        "colab": {}
      },
      "source": [
        ""
      ],
      "execution_count": 0,
      "outputs": []
    },
    {
      "cell_type": "code",
      "metadata": {
        "id": "VFxXQl7g_jsG",
        "colab_type": "code",
        "colab": {}
      },
      "source": [
        ""
      ],
      "execution_count": 0,
      "outputs": []
    }
  ]
}